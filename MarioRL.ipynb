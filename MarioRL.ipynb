{
 "cells": [
  {
   "cell_type": "markdown",
   "metadata": {},
   "source": [
    "# **RL - Super Mario - Model**"
   ]
  },
  {
   "cell_type": "markdown",
   "metadata": {},
   "source": [
    "## **_Prerequisites_**"
   ]
  },
  {
   "cell_type": "markdown",
   "metadata": {
    "tags": []
   },
   "source": [
    "\n",
    "\n",
    "### **install following requirements**\n",
    "______\n",
    "\n",
    "#### _Install gym_super_mario_bros for super mario bros environment setup_\n",
    "> > **pip install gym_super_mario_bros==7.3.0 nes_py**\n",
    "\n",
    "\n",
    "#### _Install pytorch for RL model training_\n",
    "> > **pip install torch==1.10.1 torchvision==0.11.2 torchaudio==0.10.1**\n",
    "\n",
    "\n",
    "#### _Install stable baselines for RL stuff_\n",
    "> > **pip install stable-baselines3**\n",
    "\n",
    "\n",
    "#### _Install for graphical representation_\n",
    "> > **pip install plotly**\n",
    "______\n"
   ]
  },
  {
   "cell_type": "code",
   "execution_count": 1,
   "metadata": {},
   "outputs": [],
   "source": [
    "# !pip install gym_super_mario_bros nes_py torch torchvision torchaudio stable-baselines3 plotly shimmy \n",
    "# !pip install nes-py\n",
    "# !pip install gym-super-mario-bros==7.3.0\n",
    "# !pip install wheel<0.40.0\n",
    "# !pip install gym==0.21.0\n",
    "# !pip install stable-baselines3==1.6.0"
   ]
  },
  {
   "cell_type": "code",
   "execution_count": 1,
   "metadata": {},
   "outputs": [],
   "source": [
    "# ignore warnings\n",
    "import warnings\n",
    "warnings.simplefilter('ignore')\n",
    "# Imports for game setup\n",
    "import gym_super_mario_bros\n",
    "from nes_py.wrappers import JoypadSpace\n",
    "from gym_super_mario_bros.actions import SIMPLE_MOVEMENT, COMPLEX_MOVEMENT\n",
    "import numpy as np\n",
    "import torch\n",
    "import torch\n",
    "import torch.nn as nn\n",
    "from torch.optim import Adam\n",
    "from torch.distributions import Categorical\n",
    "import random\n",
    "from tqdm import tqdm\n"
   ]
  },
  {
   "cell_type": "markdown",
   "metadata": {},
   "source": [
    "## **1. Setting Up Mario-Env**"
   ]
  },
  {
   "cell_type": "code",
   "execution_count": 2,
   "metadata": {},
   "outputs": [],
   "source": [
    "# Setup game\n",
    "env = gym_super_mario_bros.make('SuperMarioBros2-v1')"
   ]
  },
  {
   "cell_type": "code",
   "execution_count": 3,
   "metadata": {},
   "outputs": [
    {
     "name": "stdout",
     "output_type": "stream",
     "text": [
      "Total Action Space: Discrete(256)\n"
     ]
    }
   ],
   "source": [
    "print(f\"Total Action Space: {env.action_space}\")"
   ]
  },
  {
   "cell_type": "code",
   "execution_count": 4,
   "metadata": {},
   "outputs": [
    {
     "name": "stdout",
     "output_type": "stream",
     "text": [
      "SIMPLE_MOVEMENT Action Space: 7\n",
      "COMPLEX_MOVEMENT Action Space: 12\n"
     ]
    }
   ],
   "source": [
    "print(f\"SIMPLE_MOVEMENT Action Space: {len(SIMPLE_MOVEMENT)}\")\n",
    "print(f\"COMPLEX_MOVEMENT Action Space: {len(COMPLEX_MOVEMENT)}\")"
   ]
  },
  {
   "cell_type": "markdown",
   "metadata": {},
   "source": [
    "> Their are 256 Actions in the Action space of Super Mario Bros. \n",
    "\n",
    "hence it will be difficult to train an AI model with such number of possibles options . To overcome this problem, we can use a SIMPLE_MOVEMENT action space which comprises of only 7 options of operations the model can suggest to do."
   ]
  },
  {
   "cell_type": "code",
   "execution_count": 5,
   "metadata": {},
   "outputs": [
    {
     "name": "stdout",
     "output_type": "stream",
     "text": [
      "Total Action Space after reduction: Discrete(12)\n"
     ]
    }
   ],
   "source": [
    "# minimizing the action space / can also be done with two actions move right and jump right\n",
    "env = JoypadSpace(env, COMPLEX_MOVEMENT)\n",
    "print(f\"Total Action Space after reduction: {env.action_space}\")"
   ]
  },
  {
   "cell_type": "code",
   "execution_count": 7,
   "metadata": {
    "tags": []
   },
   "outputs": [
    {
     "name": "stderr",
     "output_type": "stream",
     "text": [
      "2024-04-17 13:32:04.098 Python[22717:931214] ApplePersistenceIgnoreState: Existing state will not be touched. New state will be written to /var/folders/jw/lz3gc5915cxgsvv61ql8_83c0000gn/T/com.apple.python3.savedState\n"
     ]
    },
    {
     "ename": "",
     "evalue": "",
     "output_type": "error",
     "traceback": [
      "\u001b[1;31mThe Kernel crashed while executing code in the current cell or a previous cell. \n",
      "\u001b[1;31mPlease review the code in the cell(s) to identify a possible cause of the failure. \n",
      "\u001b[1;31mClick <a href='https://aka.ms/vscodeJupyterKernelCrash'>here</a> for more info. \n",
      "\u001b[1;31mView Jupyter <a href='command:jupyter.viewOutput'>log</a> for further details."
     ]
    }
   ],
   "source": [
    "import time\n",
    "# Create a flag - restart or not\n",
    "done = True\n",
    "# Loop through each frame in the game\n",
    "for step in range(1000): \n",
    "    # Start the game to begin with \n",
    "    if done: \n",
    "        # Start the gamee\n",
    "        env.reset()\n",
    "    # Do random actions\n",
    "    state, reward, done, info  = env.step(env.action_space.sample())\n",
    "    # Show the game on the screen\n",
    "    env.render()\n",
    "    # time.sleep(0.01)\n",
    "# Close the game\n",
    "env.close()"
   ]
  },
  {
   "cell_type": "markdown",
   "metadata": {},
   "source": [
    "## **2. Preprocess Environment**"
   ]
  },
  {
   "cell_type": "code",
   "execution_count": 7,
   "metadata": {},
   "outputs": [],
   "source": [
    "from gym.wrappers import GrayScaleObservation\n",
    "from stable_baselines3.common.vec_env import VecFrameStack, DummyVecEnv\n",
    "from matplotlib import pyplot as plt"
   ]
  },
  {
   "cell_type": "code",
   "execution_count": 8,
   "metadata": {},
   "outputs": [
    {
     "name": "stdout",
     "output_type": "stream",
     "text": [
      "Observation shape: (1, 240, 256, 4)\n",
      "Information: [{'coins': 0, 'flag_get': False, 'life': 2, 'score': 0, 'stage': 1, 'status': 'small', 'time': 400, 'world': 1, 'x_pos': 40, 'x_pos_screen': 40, 'y_pos': 79}]\n",
      "Game End Status: [False]\n"
     ]
    }
   ],
   "source": [
    "# 1. Create the base environment\n",
    "env = gym_super_mario_bros.make('SuperMarioBros2-v1')\n",
    "# 2. Simplify the controls \n",
    "env = JoypadSpace(env, COMPLEX_MOVEMENT)\n",
    "# 3. Grayscale\n",
    "env = GrayScaleObservation(env, keep_dim=True)\n",
    "# 4. Wrap inside the Dummy Environment\n",
    "env = DummyVecEnv([lambda: env])\n",
    "# 5. Stack the frames\n",
    "env = VecFrameStack(env, 4, channels_order='last')\n",
    "\n",
    "\n",
    "state = env.reset()\n",
    "\n",
    "# Taking a random action\n",
    "action = env.action_space.sample()\n",
    "state, reward, done, info = env.step([action])\n",
    "\n",
    "print(\"Observation shape:\", state.shape)\n",
    "print(\"Information:\", info)\n",
    "print(\"Game End Status:\", done)"
   ]
  },
  {
   "cell_type": "code",
   "execution_count": 9,
   "metadata": {},
   "outputs": [
    {
     "data": {
      "image/png": "[encoded data removed]",
      "text/plain": [
       "<Figure size 1000x800 with 4 Axes>"
      ]
     },
     "metadata": {},
     "output_type": "display_data"
    }
   ],
   "source": [
    "plt.figure(figsize=(10,8))\n",
    "for idx in range(state.shape[3]):\n",
    "    plt.subplot(1,4,idx+1)\n",
    "    plt.imshow(state[0][:,:,idx])\n",
    "plt.show()"
   ]
  },
  {
   "cell_type": "markdown",
   "metadata": {},
   "source": [
    "## **3. Training the RL Models**\n"
   ]
  },
  {
   "cell_type": "code",
   "execution_count": 10,
   "metadata": {},
   "outputs": [],
   "source": [
    "import os \n",
    "from stable_baselines3 import PPO\n",
    "from stable_baselines3.common.callbacks import BaseCallback"
   ]
  },
  {
   "cell_type": "code",
   "execution_count": 11,
   "metadata": {
    "jupyter": {
     "source_hidden": true
    },
    "tags": []
   },
   "outputs": [],
   "source": [
    "#  making a training logger to save the model checkpoints after set frequency\n",
    "class TrainAndLoggingCallback(BaseCallback):\n",
    "\n",
    "    def __init__(self, check_freq, save_path, verbose=1):\n",
    "        super(TrainAndLoggingCallback, self).__init__(verbose)\n",
    "        self.check_freq = check_freq\n",
    "        self.save_path = save_path\n",
    "\n",
    "    # making the checkpoint directory\n",
    "    def _init_callback(self):\n",
    "        if self.save_path is not None:\n",
    "            os.makedirs(self.save_path, exist_ok=True)\n",
    "    \n",
    "    # on every step checking if the check_frequency is reached, save the model\n",
    "    def _on_step(self):\n",
    "        if self.n_calls % self.check_freq == 0:\n",
    "            model_path = os.path.join(self.save_path, 'best_model_{}'.format(self.n_calls))\n",
    "            self.model.save(model_path)\n",
    "\n",
    "        return True"
   ]
  },
  {
   "cell_type": "code",
   "execution_count": 12,
   "metadata": {},
   "outputs": [],
   "source": [
    "# Initializing the AI model\n",
    "# PPO Parameters\n",
    "    # policy: Union[str, Type[ActorCriticPolicy]],\n",
    "    # env: Union[GymEnv, str],\n",
    "    # learning_rate: Union[float, Schedule] = 3e-4,\n",
    "    # n_steps: int = 2048,\n",
    "    # batch_size: int = 64,\n",
    "    # n_epochs: int = 10,\n",
    "    # gamma: float = 0.99,\n",
    "    # gae_lambda: float = 0.95,\n",
    "    # clip_range: Union[float, Schedule] = 0.2,\n",
    "    # clip_range_vf: Union[None, float, Schedule] = None,\n",
    "    # normalize_advantage: bool = True,\n",
    "    # ent_coef: float = 0.0,\n",
    "    # vf_coef: float = 0.5,\n",
    "    # max_grad_norm: float = 0.5,\n",
    "    # use_sde: bool = False,\n",
    "    # sde_sample_freq: int = -1,\n",
    "    # target_kl: Optional[float] = None,\n",
    "    # tensorboard_log: Optional[str] = None,\n",
    "    # create_eval_env: bool = False,\n",
    "    # policy_kwargs: Optional[Dict[str, Any]] = None,\n",
    "    # verbose: int = 0,\n",
    "    # seed: Optional[int] = None,\n",
    "    # device: Union[th.device, str] = \"auto\",\n",
    "    # _init_setup_model: bool = True,"
   ]
  },
  {
   "cell_type": "code",
   "execution_count": 13,
   "metadata": {},
   "outputs": [
    {
     "data": {
      "text/plain": [
       "'mps'"
      ]
     },
     "execution_count": 13,
     "metadata": {},
     "output_type": "execute_result"
    }
   ],
   "source": [
    "# setting logs dir for tensorboard\n",
    "LOG_DIR = './logs/'\n",
    "# setting the available device for training\n",
    "device = \"cuda\" if torch.cuda.is_available() else \"mps\" if torch.backends.mps.is_available() else \"cpu\"\n",
    "device"
   ]
  },
  {
   "cell_type": "markdown",
   "metadata": {},
   "source": [
    "### **1. Cnn Policy Agent**"
   ]
  },
  {
   "cell_type": "code",
   "execution_count": 31,
   "metadata": {},
   "outputs": [
    {
     "name": "stdout",
     "output_type": "stream",
     "text": [
      "Using mps device\n",
      "Wrapping the env in a VecTransposeImage.\n"
     ]
    },
    {
     "data": {
      "text/plain": [
       "ActorCriticCnnPolicy(\n",
       "  (features_extractor): NatureCNN(\n",
       "    (cnn): Sequential(\n",
       "      (0): Conv2d(4, 32, kernel_size=(8, 8), stride=(4, 4))\n",
       "      (1): ReLU()\n",
       "      (2): Conv2d(32, 64, kernel_size=(4, 4), stride=(2, 2))\n",
       "      (3): ReLU()\n",
       "      (4): Conv2d(64, 64, kernel_size=(3, 3), stride=(1, 1))\n",
       "      (5): ReLU()\n",
       "      (6): Flatten(start_dim=1, end_dim=-1)\n",
       "    )\n",
       "    (linear): Sequential(\n",
       "      (0): Linear(in_features=46592, out_features=512, bias=True)\n",
       "      (1): ReLU()\n",
       "    )\n",
       "  )\n",
       "  (mlp_extractor): MlpExtractor(\n",
       "    (shared_net): Sequential()\n",
       "    (policy_net): Sequential()\n",
       "    (value_net): Sequential()\n",
       "  )\n",
       "  (action_net): Linear(in_features=512, out_features=7, bias=True)\n",
       "  (value_net): Linear(in_features=512, out_features=1, bias=True)\n",
       ")"
      ]
     },
     "execution_count": 31,
     "metadata": {},
     "output_type": "execute_result"
    }
   ],
   "source": [
    "CHECKPOINT_DIR = './train/'\n",
    "callback = TrainAndLoggingCallback(check_freq=10000, save_path=CHECKPOINT_DIR)\n",
    "seed = 42\n",
    "model = PPO('CnnPolicy',\n",
    "            env,\n",
    "            learning_rate=0.0001,\n",
    "            n_steps=10240,\n",
    "            batch_size=256,\n",
    "            n_epochs=10,\n",
    "            tensorboard_log=LOG_DIR,\n",
    "            verbose=1,\n",
    "            seed=seed,\n",
    "            device=device)\n",
    "model.policy"
   ]
  },
  {
   "cell_type": "code",
   "execution_count": 17,
   "metadata": {},
   "outputs": [
    {
     "name": "stdout",
     "output_type": "stream",
     "text": [
      "Using mps device\n",
      "Wrapping the env in a VecTransposeImage.\n",
      "Logging to ./logs/PPO_3\n"
     ]
    },
    {
     "name": "stderr",
     "output_type": "stream",
     "text": [
      "/Users/abdulwadood/Library/Python/3.9/lib/python/site-packages/gym_super_mario_bros/smb_env.py:148: RuntimeWarning: overflow encountered in scalar subtract\n",
      "  return (self.ram[0x86] - self.ram[0x071c]) % 256\n"
     ]
    },
    {
     "name": "stdout",
     "output_type": "stream",
     "text": [
      "------------------------------\n",
      "| time/              |       |\n",
      "|    fps             | 128   |\n",
      "|    iterations      | 1     |\n",
      "|    time_elapsed    | 79    |\n",
      "|    total_timesteps | 10240 |\n",
      "------------------------------\n",
      "---------------------------------------\n",
      "| time/                   |           |\n",
      "|    fps                  | 83        |\n",
      "|    iterations           | 2         |\n",
      "|    time_elapsed         | 245       |\n",
      "|    total_timesteps      | 20480     |\n",
      "| train/                  |           |\n",
      "|    approx_kl            | 0.0199751 |\n",
      "|    clip_fraction        | 0.209     |\n",
      "|    clip_range           | 0.2       |\n",
      "|    entropy_loss         | -1.93     |\n",
      "|    explained_variance   | -0.00579  |\n",
      "|    learning_rate        | 0.0001    |\n",
      "|    loss                 | 0.545     |\n",
      "|    n_updates            | 10        |\n",
      "|    policy_gradient_loss | -0.00509  |\n",
      "|    value_loss           | 1.88      |\n",
      "---------------------------------------\n",
      "----------------------------------------\n",
      "| time/                   |            |\n",
      "|    fps                  | 76         |\n",
      "|    iterations           | 3          |\n",
      "|    time_elapsed         | 400        |\n",
      "|    total_timesteps      | 30720      |\n",
      "| train/                  |            |\n",
      "|    approx_kl            | 0.00856624 |\n",
      "|    clip_fraction        | 0.108      |\n",
      "|    clip_range           | 0.2        |\n",
      "|    entropy_loss         | -1.89      |\n",
      "|    explained_variance   | 0.76       |\n",
      "|    learning_rate        | 0.0001     |\n",
      "|    loss                 | 0.948      |\n",
      "|    n_updates            | 20         |\n",
      "|    policy_gradient_loss | -0.00531   |\n",
      "|    value_loss           | 4.64       |\n",
      "----------------------------------------\n",
      "-----------------------------------------\n",
      "| time/                   |             |\n",
      "|    fps                  | 72          |\n",
      "|    iterations           | 4           |\n",
      "|    time_elapsed         | 563         |\n",
      "|    total_timesteps      | 40960       |\n",
      "| train/                  |             |\n",
      "|    approx_kl            | 0.013392637 |\n",
      "|    clip_fraction        | 0.146       |\n",
      "|    clip_range           | 0.2         |\n",
      "|    entropy_loss         | -1.86       |\n",
      "|    explained_variance   | 0.864       |\n",
      "|    learning_rate        | 0.0001      |\n",
      "|    loss                 | 1.23        |\n",
      "|    n_updates            | 30          |\n",
      "|    policy_gradient_loss | -0.00118    |\n",
      "|    value_loss           | 5.88        |\n",
      "-----------------------------------------\n",
      "-----------------------------------------\n",
      "| time/                   |             |\n",
      "|    fps                  | 69          |\n",
      "|    iterations           | 5           |\n",
      "|    time_elapsed         | 735         |\n",
      "|    total_timesteps      | 51200       |\n",
      "| train/                  |             |\n",
      "|    approx_kl            | 0.012239572 |\n",
      "|    clip_fraction        | 0.187       |\n",
      "|    clip_range           | 0.2         |\n",
      "|    entropy_loss         | -1.87       |\n",
      "|    explained_variance   | 0.956       |\n",
      "|    learning_rate        | 0.0001      |\n",
      "|    loss                 | 0.376       |\n",
      "|    n_updates            | 40          |\n",
      "|    policy_gradient_loss | -0.00148    |\n",
      "|    value_loss           | 1.33        |\n",
      "-----------------------------------------\n",
      "-----------------------------------------\n",
      "| time/                   |             |\n",
      "|    fps                  | 67          |\n",
      "|    iterations           | 6           |\n",
      "|    time_elapsed         | 911         |\n",
      "|    total_timesteps      | 61440       |\n",
      "| train/                  |             |\n",
      "|    approx_kl            | 0.009602653 |\n",
      "|    clip_fraction        | 0.185       |\n",
      "|    clip_range           | 0.2         |\n",
      "|    entropy_loss         | -1.85       |\n",
      "|    explained_variance   | 0.976       |\n",
      "|    learning_rate        | 0.0001      |\n",
      "|    loss                 | 0.525       |\n",
      "|    n_updates            | 50          |\n",
      "|    policy_gradient_loss | -0.000741   |\n",
      "|    value_loss           | 2.21        |\n",
      "-----------------------------------------\n",
      "-----------------------------------------\n",
      "| time/                   |             |\n",
      "|    fps                  | 65          |\n",
      "|    iterations           | 7           |\n",
      "|    time_elapsed         | 1087        |\n",
      "|    total_timesteps      | 71680       |\n",
      "| train/                  |             |\n",
      "|    approx_kl            | 0.009105818 |\n",
      "|    clip_fraction        | 0.134       |\n",
      "|    clip_range           | 0.2         |\n",
      "|    entropy_loss         | -1.86       |\n",
      "|    explained_variance   | 0.987       |\n",
      "|    learning_rate        | 0.0001      |\n",
      "|    loss                 | 0.243       |\n",
      "|    n_updates            | 60          |\n",
      "|    policy_gradient_loss | 0.00146     |\n",
      "|    value_loss           | 1.44        |\n",
      "-----------------------------------------\n",
      "-----------------------------------------\n",
      "| time/                   |             |\n",
      "|    fps                  | 64          |\n",
      "|    iterations           | 8           |\n",
      "|    time_elapsed         | 1267        |\n",
      "|    total_timesteps      | 81920       |\n",
      "| train/                  |             |\n",
      "|    approx_kl            | 0.008924645 |\n",
      "|    clip_fraction        | 0.147       |\n",
      "|    clip_range           | 0.2         |\n",
      "|    entropy_loss         | -1.83       |\n",
      "|    explained_variance   | 0.978       |\n",
      "|    learning_rate        | 0.0001      |\n",
      "|    loss                 | 1.84        |\n",
      "|    n_updates            | 70          |\n",
      "|    policy_gradient_loss | 0.00228     |\n",
      "|    value_loss           | 4.32        |\n",
      "-----------------------------------------\n",
      "-----------------------------------------\n",
      "| time/                   |             |\n",
      "|    fps                  | 63          |\n",
      "|    iterations           | 9           |\n",
      "|    time_elapsed         | 1442        |\n",
      "|    total_timesteps      | 92160       |\n",
      "| train/                  |             |\n",
      "|    approx_kl            | 0.010357222 |\n",
      "|    clip_fraction        | 0.189       |\n",
      "|    clip_range           | 0.2         |\n",
      "|    entropy_loss         | -1.8        |\n",
      "|    explained_variance   | 0.993       |\n",
      "|    learning_rate        | 0.0001      |\n",
      "|    loss                 | 0.146       |\n",
      "|    n_updates            | 80          |\n",
      "|    policy_gradient_loss | 0.00415     |\n",
      "|    value_loss           | 0.979       |\n",
      "-----------------------------------------\n",
      "-----------------------------------------\n",
      "| time/                   |             |\n",
      "|    fps                  | 63          |\n",
      "|    iterations           | 10          |\n",
      "|    time_elapsed         | 1610        |\n",
      "|    total_timesteps      | 102400      |\n",
      "| train/                  |             |\n",
      "|    approx_kl            | 0.009073801 |\n",
      "|    clip_fraction        | 0.132       |\n",
      "|    clip_range           | 0.2         |\n",
      "|    entropy_loss         | -1.8        |\n",
      "|    explained_variance   | 0.989       |\n",
      "|    learning_rate        | 0.0001      |\n",
      "|    loss                 | 0.817       |\n",
      "|    n_updates            | 90          |\n",
      "|    policy_gradient_loss | -3.71e-05   |\n",
      "|    value_loss           | 4.36        |\n",
      "-----------------------------------------\n"
     ]
    },
    {
     "data": {
      "text/plain": [
       "<stable_baselines3.ppo.ppo.PPO at 0x326b96880>"
      ]
     },
     "execution_count": 17,
     "metadata": {},
     "output_type": "execute_result"
    }
   ],
   "source": [
    "model.learn(total_timesteps=102400, callback=callback)"
   ]
  },
  {
   "cell_type": "code",
   "execution_count": 18,
   "metadata": {},
   "outputs": [],
   "source": [
    "# saving the final model\n",
    "model.save(\"CnnPolicy\")"
   ]
  },
  {
   "cell_type": "markdown",
   "metadata": {},
   "source": [
    "### **2. MlpPolicy Agent**"
   ]
  },
  {
   "cell_type": "code",
   "execution_count": 30,
   "metadata": {},
   "outputs": [
    {
     "name": "stdout",
     "output_type": "stream",
     "text": [
      "Using mps device\n",
      "Wrapping the env in a VecTransposeImage.\n"
     ]
    },
    {
     "data": {
      "text/plain": [
       "ActorCriticPolicy(\n",
       "  (features_extractor): FlattenExtractor(\n",
       "    (flatten): Flatten(start_dim=1, end_dim=-1)\n",
       "  )\n",
       "  (mlp_extractor): MlpExtractor(\n",
       "    (shared_net): Sequential()\n",
       "    (policy_net): Sequential(\n",
       "      (0): Linear(in_features=245760, out_features=64, bias=True)\n",
       "      (1): Tanh()\n",
       "      (2): Linear(in_features=64, out_features=64, bias=True)\n",
       "      (3): Tanh()\n",
       "    )\n",
       "    (value_net): Sequential(\n",
       "      (0): Linear(in_features=245760, out_features=64, bias=True)\n",
       "      (1): Tanh()\n",
       "      (2): Linear(in_features=64, out_features=64, bias=True)\n",
       "      (3): Tanh()\n",
       "    )\n",
       "  )\n",
       "  (action_net): Linear(in_features=64, out_features=7, bias=True)\n",
       "  (value_net): Linear(in_features=64, out_features=1, bias=True)\n",
       ")"
      ]
     },
     "execution_count": 30,
     "metadata": {},
     "output_type": "execute_result"
    }
   ],
   "source": [
    "CHECKPOINT_DIR = './train2/'\n",
    "callback = TrainAndLoggingCallback(check_freq=10000, save_path=CHECKPOINT_DIR)\n",
    "seed = 42\n",
    "model = PPO('MlpPolicy',\n",
    "            env,\n",
    "            learning_rate=0.0001,\n",
    "            n_steps=10240,\n",
    "            batch_size=256,\n",
    "            n_epochs=10,\n",
    "            tensorboard_log=LOG_DIR,\n",
    "            verbose=1,\n",
    "            seed=seed,\n",
    "            device=device)\n",
    "model.policy"
   ]
  },
  {
   "cell_type": "code",
   "execution_count": 25,
   "metadata": {},
   "outputs": [
    {
     "name": "stdout",
     "output_type": "stream",
     "text": [
      "Using cpu device\n",
      "Wrapping the env in a VecTransposeImage.\n",
      "Logging to ./logs/PPO_5\n",
      "------------------------------\n",
      "| time/              |       |\n",
      "|    fps             | 167   |\n",
      "|    iterations      | 1     |\n",
      "|    time_elapsed    | 61    |\n",
      "|    total_timesteps | 10240 |\n",
      "------------------------------\n",
      "-----------------------------------------\n",
      "| time/                   |             |\n",
      "|    fps                  | 116         |\n",
      "|    iterations           | 2           |\n",
      "|    time_elapsed         | 175         |\n",
      "|    total_timesteps      | 20480       |\n",
      "| train/                  |             |\n",
      "|    approx_kl            | 0.004726039 |\n",
      "|    clip_fraction        | 0.00182     |\n",
      "|    clip_range           | 0.2         |\n",
      "|    entropy_loss         | -1.94       |\n",
      "|    explained_variance   | 0.0259      |\n",
      "|    learning_rate        | 0.0001      |\n",
      "|    loss                 | 20.4        |\n",
      "|    n_updates            | 5           |\n",
      "|    policy_gradient_loss | -0.00314    |\n",
      "|    value_loss           | 32          |\n",
      "-----------------------------------------\n",
      "------------------------------------------\n",
      "| time/                   |              |\n",
      "|    fps                  | 107          |\n",
      "|    iterations           | 3            |\n",
      "|    time_elapsed         | 286          |\n",
      "|    total_timesteps      | 30720        |\n",
      "| train/                  |              |\n",
      "|    approx_kl            | 0.0040706964 |\n",
      "|    clip_fraction        | 0.0098       |\n",
      "|    clip_range           | 0.2          |\n",
      "|    entropy_loss         | -1.94        |\n",
      "|    explained_variance   | 0.453        |\n",
      "|    learning_rate        | 0.0001       |\n",
      "|    loss                 | 15.4         |\n",
      "|    n_updates            | 10           |\n",
      "|    policy_gradient_loss | -0.00429     |\n",
      "|    value_loss           | 37.7         |\n",
      "------------------------------------------\n",
      "------------------------------------------\n",
      "| time/                   |              |\n",
      "|    fps                  | 103          |\n",
      "|    iterations           | 4            |\n",
      "|    time_elapsed         | 397          |\n",
      "|    total_timesteps      | 40960        |\n",
      "| train/                  |              |\n",
      "|    approx_kl            | 0.0066738985 |\n",
      "|    clip_fraction        | 0.022        |\n",
      "|    clip_range           | 0.2          |\n",
      "|    entropy_loss         | -1.94        |\n",
      "|    explained_variance   | 0.524        |\n",
      "|    learning_rate        | 0.0001       |\n",
      "|    loss                 | 3.87         |\n",
      "|    n_updates            | 15           |\n",
      "|    policy_gradient_loss | -0.00271     |\n",
      "|    value_loss           | 17.7         |\n",
      "------------------------------------------\n",
      "-----------------------------------------\n",
      "| time/                   |             |\n",
      "|    fps                  | 100         |\n",
      "|    iterations           | 5           |\n",
      "|    time_elapsed         | 510         |\n",
      "|    total_timesteps      | 51200       |\n",
      "| train/                  |             |\n",
      "|    approx_kl            | 0.006807059 |\n",
      "|    clip_fraction        | 0.0174      |\n",
      "|    clip_range           | 0.2         |\n",
      "|    entropy_loss         | -1.93       |\n",
      "|    explained_variance   | 0.591       |\n",
      "|    learning_rate        | 0.0001      |\n",
      "|    loss                 | 8.31        |\n",
      "|    n_updates            | 20          |\n",
      "|    policy_gradient_loss | -0.00335    |\n",
      "|    value_loss           | 16.7        |\n",
      "-----------------------------------------\n",
      "-----------------------------------------\n",
      "| time/                   |             |\n",
      "|    fps                  | 99          |\n",
      "|    iterations           | 6           |\n",
      "|    time_elapsed         | 618         |\n",
      "|    total_timesteps      | 61440       |\n",
      "| train/                  |             |\n",
      "|    approx_kl            | 0.001784262 |\n",
      "|    clip_fraction        | 0.00041     |\n",
      "|    clip_range           | 0.2         |\n",
      "|    entropy_loss         | -1.92       |\n",
      "|    explained_variance   | 0.586       |\n",
      "|    learning_rate        | 0.0001      |\n",
      "|    loss                 | 17.3        |\n",
      "|    n_updates            | 25          |\n",
      "|    policy_gradient_loss | -0.00167    |\n",
      "|    value_loss           | 38.6        |\n",
      "-----------------------------------------\n",
      "------------------------------------------\n",
      "| time/                   |              |\n",
      "|    fps                  | 97           |\n",
      "|    iterations           | 7            |\n",
      "|    time_elapsed         | 737          |\n",
      "|    total_timesteps      | 71680        |\n",
      "| train/                  |              |\n",
      "|    approx_kl            | 0.0060002087 |\n",
      "|    clip_fraction        | 0.0133       |\n",
      "|    clip_range           | 0.2          |\n",
      "|    entropy_loss         | -1.9         |\n",
      "|    explained_variance   | 0.662        |\n",
      "|    learning_rate        | 0.0001       |\n",
      "|    loss                 | 7.03         |\n",
      "|    n_updates            | 30           |\n",
      "|    policy_gradient_loss | -0.00177     |\n",
      "|    value_loss           | 16           |\n",
      "------------------------------------------\n",
      "------------------------------------------\n",
      "| time/                   |              |\n",
      "|    fps                  | 96           |\n",
      "|    iterations           | 8            |\n",
      "|    time_elapsed         | 851          |\n",
      "|    total_timesteps      | 81920        |\n",
      "| train/                  |              |\n",
      "|    approx_kl            | 0.0070413454 |\n",
      "|    clip_fraction        | 0.0321       |\n",
      "|    clip_range           | 0.2          |\n",
      "|    entropy_loss         | -1.9         |\n",
      "|    explained_variance   | 0.668        |\n",
      "|    learning_rate        | 0.0001       |\n",
      "|    loss                 | 11.4         |\n",
      "|    n_updates            | 35           |\n",
      "|    policy_gradient_loss | -0.00179     |\n",
      "|    value_loss           | 21.1         |\n",
      "------------------------------------------\n",
      "-----------------------------------------\n",
      "| time/                   |             |\n",
      "|    fps                  | 94          |\n",
      "|    iterations           | 9           |\n",
      "|    time_elapsed         | 971         |\n",
      "|    total_timesteps      | 92160       |\n",
      "| train/                  |             |\n",
      "|    approx_kl            | 0.008804703 |\n",
      "|    clip_fraction        | 0.034       |\n",
      "|    clip_range           | 0.2         |\n",
      "|    entropy_loss         | -1.88       |\n",
      "|    explained_variance   | 0.707       |\n",
      "|    learning_rate        | 0.0001      |\n",
      "|    loss                 | 3.23        |\n",
      "|    n_updates            | 40          |\n",
      "|    policy_gradient_loss | -0.00246    |\n",
      "|    value_loss           | 16.2        |\n",
      "-----------------------------------------\n",
      "----------------------------------------\n",
      "| time/                   |            |\n",
      "|    fps                  | 93         |\n",
      "|    iterations           | 10         |\n",
      "|    time_elapsed         | 1093       |\n",
      "|    total_timesteps      | 102400     |\n",
      "| train/                  |            |\n",
      "|    approx_kl            | 0.00534352 |\n",
      "|    clip_fraction        | 0.0213     |\n",
      "|    clip_range           | 0.2        |\n",
      "|    entropy_loss         | -1.86      |\n",
      "|    explained_variance   | 0.688      |\n",
      "|    learning_rate        | 0.0001     |\n",
      "|    loss                 | 11.5       |\n",
      "|    n_updates            | 45         |\n",
      "|    policy_gradient_loss | -0.000681  |\n",
      "|    value_loss           | 19.2       |\n",
      "----------------------------------------\n"
     ]
    },
    {
     "data": {
      "text/plain": [
       "<stable_baselines3.ppo.ppo.PPO at 0x3b3dd9a60>"
      ]
     },
     "execution_count": 25,
     "metadata": {},
     "output_type": "execute_result"
    }
   ],
   "source": [
    "model.learn(total_timesteps=102400, callback=callback)"
   ]
  },
  {
   "cell_type": "code",
   "execution_count": 26,
   "metadata": {},
   "outputs": [],
   "source": [
    "# saving the final model\n",
    "model.save(\"MlpPolicy\")"
   ]
  },
  {
   "cell_type": "markdown",
   "metadata": {},
   "source": [
    "### **3. CNN Agent (Custom)**"
   ]
  },
  {
   "cell_type": "code",
   "execution_count": 23,
   "metadata": {},
   "outputs": [],
   "source": [
    "class CustomCNN(nn.Module):\n",
    "    def __init__(self, num_actions):\n",
    "        super(CustomCNN, self).__init__()\n",
    "        self.conv1 = nn.Conv2d(4, 32, kernel_size=8, stride=4)\n",
    "        self.conv2 = nn.Conv2d(32, 64, kernel_size=4, stride=2)\n",
    "        self.conv3 = nn.Conv2d(64, 64, kernel_size=3, stride=1)\n",
    "        self.fc1 = nn.Linear(26*28*64, 512)\n",
    "        self.fc2 = nn.Linear(512, 256)\n",
    "        self.fc3 = nn.Linear(256, 128)\n",
    "        self.policy_head = nn.Linear(128, num_actions)\n",
    "        self.value_head = nn.Linear(128, 1)\n",
    "\n",
    "    def forward(self, x):\n",
    "        x = nn.functional.relu(self.conv1(x))\n",
    "        x = nn.functional.relu(self.conv2(x))\n",
    "        x = nn.functional.relu(self.conv3(x))\n",
    "        x = x.reshape(x.size(0), -1) # Flatten the tensor\n",
    "        x = nn.functional.relu(self.fc1(x))\n",
    "        x = nn.functional.relu(self.fc2(x))\n",
    "        x = nn.functional.relu(self.fc3(x))\n",
    "        policy_logits = self.policy_head(x)\n",
    "        value = self.value_head(x)\n",
    "        return policy_logits, value"
   ]
  },
  {
   "cell_type": "code",
   "execution_count": 24,
   "metadata": {},
   "outputs": [
    {
     "data": {
      "text/plain": [
       "CustomCNN(\n",
       "  (conv1): Conv2d(4, 32, kernel_size=(8, 8), stride=(4, 4))\n",
       "  (conv2): Conv2d(32, 64, kernel_size=(4, 4), stride=(2, 2))\n",
       "  (conv3): Conv2d(64, 64, kernel_size=(3, 3), stride=(1, 1))\n",
       "  (fc1): Linear(in_features=46592, out_features=512, bias=True)\n",
       "  (fc2): Linear(in_features=512, out_features=256, bias=True)\n",
       "  (fc3): Linear(in_features=256, out_features=128, bias=True)\n",
       "  (policy_head): Linear(in_features=128, out_features=12, bias=True)\n",
       "  (value_head): Linear(in_features=128, out_features=1, bias=True)\n",
       ")"
      ]
     },
     "execution_count": 24,
     "metadata": {},
     "output_type": "execute_result"
    }
   ],
   "source": [
    "# Assuming CustomCNN and env are defined and initialized\n",
    "model = CustomCNN(num_actions=env.action_space.n).to(device=device)\n",
    "optimizer = Adam(model.parameters(), lr=0.000001)\n",
    "model"
   ]
  },
  {
   "cell_type": "code",
   "execution_count": 27,
   "metadata": {},
   "outputs": [
    {
     "name": "stderr",
     "output_type": "stream",
     "text": [
      "Episode 1: Total Reward = [-93.], Loss = 20.1188: : 1841it [00:10, 177.55it/s]\n",
      "Episode 2: Total Reward = [-1.], Loss = 4.5736: : 2000it [00:10, 196.53it/s]                        \n",
      "Episode 3: Total Reward = [-97.], Loss = 45.1005: : 2000it [00:10, 197.88it/s]                        \n",
      "Episode 4: Total Reward = [-111.], Loss = 38.1171: : 1899it [00:09, 196.91it/s]                       \n",
      "Episode 5: Total Reward = [-102.], Loss = 34.1829: : 1877it [00:09, 197.70it/s]                       \n",
      "Episode 6: Total Reward = [97.], Loss = -29.7414: : 2000it [00:10, 196.15it/s]                        \n",
      "Episode 7: Total Reward = [-63.], Loss = 31.2623: : 2000it [00:10, 190.70it/s]                        \n",
      "Episode 8: Total Reward = [-114.], Loss = 33.3134: : 2000it [00:10, 197.93it/s]                        \n",
      "Episode 9: Total Reward = [-16.], Loss = -6.9522: : 2000it [00:10, 197.09it/s]                        \n",
      "Episode 10: Total Reward = [-82.], Loss = 23.9595: : 2000it [00:10, 198.68it/s]                        \n",
      "Episode 11: Total Reward = [23.], Loss = -13.6027: : 2000it [00:11, 172.64it/s]                        \n",
      "Episode 12: Total Reward = [-152.], Loss = 38.0531: : 1913it [00:10, 175.31it/s]                       \n",
      "Episode 13: Total Reward = [110.], Loss = -12.6294: : 2000it [00:10, 191.95it/s]                        \n",
      "Episode 14: Total Reward = [63.], Loss = -11.0582: : 2000it [00:10, 197.75it/s]                        \n",
      "Episode 15: Total Reward = [-41.], Loss = 9.4039: : 2000it [00:09, 205.09it/s]                        \n",
      "Episode 16: Total Reward = [-51.], Loss = 14.0133: : 2000it [00:10, 196.76it/s]                        \n",
      "Episode 17: Total Reward = [-52.], Loss = 26.1070: : 2000it [00:11, 179.16it/s]                        \n",
      "Episode 18: Total Reward = [-68.], Loss = 29.7864: : 2000it [00:10, 188.13it/s]                        \n",
      "Episode 19: Total Reward = [-30.], Loss = 9.3232: : 2000it [00:10, 192.21it/s]                        \n",
      "Episode 20: Total Reward = [525.], Loss = -129.9887: : 2000it [00:10, 188.72it/s]                        \n",
      "Episode 21: Total Reward = [-148.], Loss = 26.1603: : 2000it [00:10, 185.69it/s]                        \n",
      "Episode 22: Total Reward = [-113.], Loss = 36.3120: : 2000it [00:10, 197.72it/s]                        \n",
      "Episode 23: Total Reward = [-104.], Loss = 45.2665: : 1885it [00:09, 190.40it/s]                       \n",
      "Episode 24: Total Reward = [-145.], Loss = 27.2164: : 1959it [00:10, 190.41it/s]                       \n",
      "Episode 25: Total Reward = [-84.], Loss = 18.6477: : 2000it [00:10, 192.91it/s]                        \n",
      "Episode 26: Total Reward = [-121.], Loss = 20.7829: : 1907it [00:10, 190.11it/s]                       \n",
      "Episode 27: Total Reward = [-111.], Loss = 33.9115: : 2000it [00:10, 190.23it/s]                        \n",
      "Episode 28: Total Reward = [-81.], Loss = 29.4342: : 2000it [00:10, 194.39it/s]                        \n",
      "Episode 29: Total Reward = [-37.], Loss = 20.1281: : 2000it [00:10, 197.63it/s]                        \n",
      "Episode 30: Total Reward = [-123.], Loss = 51.0926: : 2000it [00:10, 185.20it/s]                        \n",
      "Episode 31: Total Reward = [-77.], Loss = 21.8007: : 2000it [00:10, 190.34it/s]                        \n",
      "Episode 32: Total Reward = [153.], Loss = -37.8818: : 2000it [00:10, 196.05it/s]                        \n",
      "Episode 33: Total Reward = [209.], Loss = -55.7655: : 2000it [00:10, 188.29it/s]                        \n",
      "Episode 34: Total Reward = [-82.], Loss = 17.3880: : 2000it [00:11, 178.07it/s]                        \n",
      "Episode 35: Total Reward = [-130.], Loss = 24.9655: : 2000it [00:10, 193.92it/s]                        \n",
      "Episode 36: Total Reward = [-64.], Loss = 8.5453: : 1783it [00:08, 207.60it/s]                       \n",
      "Episode 37: Total Reward = [11.], Loss = -5.8727: : 2000it [00:10, 181.92it/s]                        \n",
      "Episode 38: Total Reward = [-134.], Loss = 26.2450: : 1879it [00:11, 169.87it/s]                       \n",
      "Episode 39: Total Reward = [-80.], Loss = 14.0702: : 2000it [00:12, 158.06it/s]                        \n",
      "Episode 40: Total Reward = [448.], Loss = -113.6349: : 2000it [00:12, 166.14it/s]                        \n",
      "Episode 41: Total Reward = [356.], Loss = -92.7083: : 2000it [00:12, 162.90it/s]                        \n",
      "Episode 42: Total Reward = [-56.], Loss = 15.5720: : 2000it [00:11, 166.77it/s]                        \n",
      "Episode 43: Total Reward = [-65.], Loss = 25.2124: : 2000it [00:10, 187.45it/s]                        \n",
      "Episode 44: Total Reward = [-111.], Loss = 25.2191: : 2000it [00:11, 168.43it/s]                        \n",
      "Episode 45: Total Reward = [-80.], Loss = 18.1287: : 2000it [00:11, 180.53it/s]                        \n",
      "Episode 46: Total Reward = [57.], Loss = -27.7647: : 2000it [00:11, 180.73it/s]                        \n",
      "Episode 47: Total Reward = [-97.], Loss = 23.7956: : 1877it [00:10, 174.62it/s]                       \n",
      "Episode 48: Total Reward = [369.], Loss = -93.7946: : 2000it [00:11, 173.13it/s]                        \n",
      "Episode 49: Total Reward = [-109.], Loss = 39.3133: : 2000it [00:10, 188.51it/s]                        \n",
      "Episode 50: Total Reward = [-180.], Loss = 36.3212: : 1983it [00:11, 176.03it/s]                       \n",
      "Episode 51: Total Reward = [158.], Loss = -42.0749: : 2000it [00:11, 176.60it/s]                        \n",
      "Episode 52: Total Reward = [350.], Loss = -87.7710: : 2000it [00:10, 184.58it/s]                        \n",
      "Episode 53: Total Reward = [-82.], Loss = -0.4280: : 1843it [00:10, 175.48it/s]                       \n",
      "Episode 54: Total Reward = [-52.], Loss = 9.2332: : 2000it [00:11, 177.65it/s]                        \n",
      "Episode 55: Total Reward = [-164.], Loss = 21.8618: : 1945it [00:10, 182.10it/s]                       \n",
      "Episode 56: Total Reward = [-8.], Loss = -13.5849: : 2000it [00:11, 177.42it/s]                        \n",
      "Episode 57: Total Reward = [-55.], Loss = 15.4986: : 2000it [00:10, 182.71it/s]                        \n",
      "Episode 58: Total Reward = [-74.], Loss = 18.4505: : 2000it [00:11, 177.73it/s]                        \n",
      "Episode 59: Total Reward = [-57.], Loss = 21.0080: : 2000it [00:10, 184.09it/s]                        \n",
      "Episode 60: Total Reward = [-29.], Loss = 2.1879: : 2000it [00:11, 177.81it/s]                        \n",
      "Episode 61: Total Reward = [-53.], Loss = 17.7454: : 2000it [00:10, 182.63it/s]                        \n",
      "Episode 62: Total Reward = [-159.], Loss = 24.7251: : 1923it [00:10, 186.44it/s]                       \n",
      "Episode 63: Total Reward = [-129.], Loss = 18.9107: : 1911it [00:10, 184.13it/s]                       \n",
      "Episode 64: Total Reward = [-37.], Loss = 19.7319: : 2000it [00:10, 188.56it/s]                        \n",
      "Episode 65: Total Reward = [-64.], Loss = 12.0701: : 2000it [00:11, 175.99it/s]                        \n",
      "Episode 66: Total Reward = [-19.], Loss = 4.2584: : 2000it [00:11, 171.16it/s]                        \n",
      "Episode 67: Total Reward = [-61.], Loss = 14.7163: : 2000it [00:10, 183.80it/s]                        \n",
      "Episode 68: Total Reward = [-67.], Loss = 20.4733: : 2000it [00:11, 181.27it/s]                        \n",
      "Episode 69: Total Reward = [-121.], Loss = 37.2555: : 2000it [00:11, 169.76it/s]                        \n",
      "Episode 70: Total Reward = [-69.], Loss = 31.8747: : 2000it [00:10, 186.40it/s]                        \n",
      "Episode 71: Total Reward = [-71.], Loss = 13.9226: : 2000it [00:10, 189.87it/s]                        \n",
      "Episode 72: Total Reward = [-115.], Loss = 49.3839: : 2000it [00:11, 179.14it/s]                        \n",
      "Episode 73: Total Reward = [-59.], Loss = 3.6678: : 1789it [00:09, 178.93it/s]                       \n",
      "Episode 74: Total Reward = [-101.], Loss = 31.0792: : 1861it [00:10, 181.86it/s]                       \n",
      "Episode 75: Total Reward = [185.], Loss = -30.3690: : 2000it [00:11, 181.51it/s]                        \n",
      "Episode 76: Total Reward = [-78.], Loss = 22.6366: : 2000it [00:11, 181.73it/s]                        \n",
      "Episode 77: Total Reward = [-59.], Loss = 14.0439: : 2000it [00:11, 181.34it/s]                        \n",
      "Episode 78: Total Reward = [-154.], Loss = 49.4970: : 1923it [00:10, 185.47it/s]                       \n",
      "Episode 79: Total Reward = [-58.], Loss = 14.6269: : 2000it [00:10, 189.98it/s]                        \n",
      "Episode 80: Total Reward = [-106.], Loss = 11.7710: : 2000it [00:11, 177.68it/s]                        \n",
      "Episode 81: Total Reward = [19.], Loss = -5.3574: : 2000it [00:10, 182.28it/s]                        \n",
      "Episode 82: Total Reward = [186.], Loss = -43.8599: : 2000it [00:11, 181.60it/s]                        \n",
      "Episode 83: Total Reward = [-72.], Loss = 39.3664: : 2000it [00:10, 181.92it/s]                        \n",
      "Episode 84: Total Reward = [-104.], Loss = 34.9188: : 2000it [00:10, 187.51it/s]                        \n",
      "Episode 85: Total Reward = [-68.], Loss = 16.8617: : 1815it [00:10, 177.63it/s]                       \n",
      "Episode 86: Total Reward = [-37.], Loss = 17.3765: : 2000it [00:11, 176.29it/s]                        \n",
      "Episode 87: Total Reward = [-56.], Loss = 18.7086: : 2000it [00:11, 171.94it/s]                        \n",
      "Episode 88: Total Reward = [-76.], Loss = 5.6014: : 1825it [00:09, 196.99it/s]                       \n",
      "Episode 89: Total Reward = [12.], Loss = -15.8455: : 2000it [00:10, 183.32it/s]                        \n",
      "Episode 90: Total Reward = [157.], Loss = -43.0172: : 2000it [00:10, 187.47it/s]                        \n",
      "Episode 91: Total Reward = [-75.], Loss = 8.8804: : 2000it [00:10, 182.56it/s]                        \n",
      "Episode 92: Total Reward = [149.], Loss = -20.7291: : 2000it [00:11, 176.03it/s]                        \n",
      "Episode 93: Total Reward = [-106.], Loss = 59.8826: : 1847it [00:10, 179.20it/s]                       \n",
      "Episode 94: Total Reward = [-116.], Loss = 29.4676: : 2000it [00:10, 191.57it/s]                        \n",
      "Episode 95: Total Reward = [511.], Loss = -120.1984: : 2000it [00:10, 187.57it/s]                        \n",
      "Episode 96: Total Reward = [-34.], Loss = 5.8834: : 2000it [00:10, 193.29it/s]                        \n",
      "Episode 97: Total Reward = [-114.], Loss = 27.4906: : 2000it [00:10, 192.92it/s]                        \n",
      "Episode 98: Total Reward = [-58.], Loss = 34.6096: : 2000it [00:10, 191.92it/s]                        \n",
      "Episode 99: Total Reward = [70.], Loss = -26.0693: : 2000it [00:10, 189.16it/s]                        \n",
      "Episode 100: Total Reward = [-10.], Loss = -5.7220: : 1751it [00:09, 177.64it/s]                       \n"
     ]
    }
   ],
   "source": [
    "num_episodes = 100 # Number of episodes to train for\n",
    "gamma = 0.99 # Discount factor for future rewards\n",
    "max_steps_per_episode = 1000\n",
    "batch_size = 256\n",
    "for episode in range(num_episodes):\n",
    "    obs = env.reset()\n",
    "    done = False\n",
    "    episode_reward = 0\n",
    "    experiences = [] # List to store experiences\n",
    "\n",
    "    pbar = tqdm(total=max_steps_per_episode, desc=f\"Episode {episode+1}/{num_episodes}: training\")\n",
    "    \n",
    "    while not done and len(experiences) < max_steps_per_episode:\n",
    "        # Convert observation to tensor\n",
    "        obs_tensor = torch.tensor(obs, dtype=torch.float32, device=device).permute(0,3,1,2)\n",
    "        \n",
    "        # Forward pass through the model to get policy logits and value\n",
    "        policy_logits, value = model(obs_tensor)\n",
    "        \n",
    "        # Sample action from the policy\n",
    "        action_probs = torch.nn.functional.softmax(policy_logits, dim=-1)\n",
    "        action = torch.multinomial(action_probs, 1).item()\n",
    "        \n",
    "        # Take the action in the environment\n",
    "        next_obs, reward, done, info = env.step([action])\n",
    "        \n",
    "        # Store the experience for loss calculation\n",
    "        experiences.append((obs_tensor, action, reward, torch.tensor(next_obs, dtype=torch.float32).unsqueeze(0), done))\n",
    "        \n",
    "        obs = next_obs\n",
    "        \n",
    "        # Accumulating the reward\n",
    "        episode_reward += reward\n",
    "        \n",
    "        # updating the tqdm loading\n",
    "        pbar.update(1)\n",
    "    loss = 0\n",
    "    # Calculate the loss and update the model\n",
    "    for obs, action, reward, next_obs, done in random.sample(experiences, batch_size):\n",
    "        # Forward pass through the model to get policy logits and value for the current state\n",
    "        policy_logits, value = model(obs)\n",
    "        \n",
    "        # Forward pass through the model to get policy logits and value for the next state\n",
    "        next_obs = next_obs.squeeze(0).permute(0,3,1,2).to(device=device)\n",
    "        next_policy_logits, next_value = model(next_obs)\n",
    "        \n",
    "        # Calculate the advantage\n",
    "        reward = torch.tensor(reward, dtype=torch.float32, device=device)\n",
    "\n",
    "        # Assuming gamma is a scalar or a PyTorch tensor\n",
    "        gamma = torch.tensor(gamma, dtype=torch.float32, device=device)\n",
    "\n",
    "        # Ensure next_value and value are tensors\n",
    "        next_value = torch.tensor(next_value, dtype=torch.float32, device=device)\n",
    "        value = torch.tensor(value, dtype=torch.float32, device=device)\n",
    "\n",
    "        advantage = reward + gamma * next_value - value\n",
    "        \n",
    "        # Calculate the PPO loss\n",
    "        old_log_probs = torch.nn.functional.log_softmax(policy_logits, dim=-1)\n",
    "        new_log_probs = torch.nn.functional.log_softmax(next_policy_logits, dim=-1)\n",
    "        ratio = torch.exp(new_log_probs - old_log_probs)\n",
    "        surr1 = ratio * advantage\n",
    "        surr2 = torch.clamp(ratio, 1.0 - 0.2, 1.0 + 0.2) * advantage\n",
    "        loss += -torch.min(surr1, surr2) + 0.5 * nn.MSELoss()(value, next_value)\n",
    "        \n",
    "\n",
    "    optimizer.zero_grad()\n",
    "    # Perform a backward pass\n",
    "    loss.mean().backward()\n",
    "    # Update the model parameters\n",
    "    optimizer.step()\n",
    "\n",
    "    # tqdm stuff updating\n",
    "    pbar.set_description(f\"Episode {episode+1}: Total Reward = {episode_reward}, Loss = {loss.mean():.4f}\")\n",
    "    pbar.update(1000)\n",
    "    pbar.close()\n"
   ]
  },
  {
   "cell_type": "code",
   "execution_count": 28,
   "metadata": {},
   "outputs": [],
   "source": [
    "# Save the model\n",
    "torch.save(model.state_dict(), 'CustomCNN.pth')"
   ]
  },
  {
   "cell_type": "markdown",
   "metadata": {},
   "source": [
    "## **4. Evaluating the RL Agents**"
   ]
  },
  {
   "cell_type": "code",
   "execution_count": 36,
   "metadata": {},
   "outputs": [],
   "source": [
    "# evaluation criteria \n",
    "def evaluate_agent(agent, episodes=5):\n",
    "    # list to store rewards\n",
    "    total_rewards = []\n",
    "    for episode in range(episodes):\n",
    "        # resetting the env so the game start from beginning.\n",
    "        state = env.reset()\n",
    "        total_reward = 0\n",
    "        done = False\n",
    "        # while game is not ended\n",
    "        while not done:\n",
    "            try:\n",
    "                action, _ = agent.predict(state)\n",
    "            except:\n",
    "                action, _ = agent(torch.tensor(state, dtype=torch.float32).to(device).permute(0, 3, 1, 2))\n",
    "                action = [torch.argmax(action).item()]\n",
    "            next_state, reward, done, _ = env.step(action)\n",
    "            state = next_state\n",
    "            # Commutative sum of reward\n",
    "            total_reward += reward\n",
    "        total_rewards.append(total_reward)\n",
    "        # total rewards per episode\n",
    "        print(f\"Episode {episode + 1}/{episodes}, Total Reward: {total_reward}\")\n",
    "    # average rewards over all episodes\n",
    "    avg_reward = np.mean(total_rewards)\n",
    "    print(f\"Average Reward: {avg_reward}\")\n",
    "    return avg_reward"
   ]
  },
  {
   "cell_type": "code",
   "execution_count": 22,
   "metadata": {},
   "outputs": [
    {
     "name": "stdout",
     "output_type": "stream",
     "text": [
      "Episode 1/5, Total Reward: [450.]\n",
      "Episode 2/5, Total Reward: [389.]\n",
      "Episode 3/5, Total Reward: [396.]\n",
      "Episode 4/5, Total Reward: [231.]\n",
      "Episode 5/5, Total Reward: [391.]\n",
      "Average Reward: 371.3999938964844\n"
     ]
    },
    {
     "data": {
      "text/plain": [
       "371.4"
      ]
     },
     "execution_count": 22,
     "metadata": {},
     "output_type": "execute_result"
    }
   ],
   "source": [
    "model = PPO.load(\"CnnPolicy\")\n",
    "avg_cnn_reward = evaluate_agent(model)\n",
    "avg_cnn_reward"
   ]
  },
  {
   "cell_type": "code",
   "execution_count": 27,
   "metadata": {},
   "outputs": [
    {
     "name": "stdout",
     "output_type": "stream",
     "text": [
      "Episode 1/5, Total Reward: [411.]\n",
      "Episode 2/5, Total Reward: [402.]\n",
      "Episode 3/5, Total Reward: [403.]\n",
      "Episode 4/5, Total Reward: [397.]\n",
      "Episode 5/5, Total Reward: [451.]\n",
      "Average Reward: 412.79998779296875\n"
     ]
    }
   ],
   "source": [
    "model = PPO.load(\"MlpPolicy\")\n",
    "avg_mlp_reward = evaluate_agent(model)"
   ]
  },
  {
   "cell_type": "code",
   "execution_count": 37,
   "metadata": {},
   "outputs": [
    {
     "name": "stdout",
     "output_type": "stream",
     "text": [
      "Episode 1/5, Total Reward: [330.]\n",
      "Episode 2/5, Total Reward: [330.]\n",
      "Episode 3/5, Total Reward: [330.]\n",
      "Episode 4/5, Total Reward: [330.]\n",
      "Episode 5/5, Total Reward: [330.]\n",
      "Average Reward: 330.0\n"
     ]
    }
   ],
   "source": [
    "model = CustomCNN(num_actions=env.action_space.n)\n",
    "\n",
    "# Load the model\n",
    "model.load_state_dict(torch.load('CustomCNN.pth'))\n",
    "model = model.to(\"mps\")\n",
    "model.eval()\n",
    "avg_CustomCnn_reward = evaluate_agent(model)"
   ]
  },
  {
   "cell_type": "markdown",
   "metadata": {},
   "source": [
    "## **5. Testing it Out**"
   ]
  },
  {
   "cell_type": "code",
   "execution_count": 40,
   "metadata": {},
   "outputs": [
    {
     "data": {
      "text/plain": [
       "ActorCriticPolicy(\n",
       "  (features_extractor): FlattenExtractor(\n",
       "    (flatten): Flatten(start_dim=1, end_dim=-1)\n",
       "  )\n",
       "  (mlp_extractor): MlpExtractor(\n",
       "    (shared_net): Sequential()\n",
       "    (policy_net): Sequential(\n",
       "      (0): Linear(in_features=245760, out_features=64, bias=True)\n",
       "      (1): Tanh()\n",
       "      (2): Linear(in_features=64, out_features=64, bias=True)\n",
       "      (3): Tanh()\n",
       "    )\n",
       "    (value_net): Sequential(\n",
       "      (0): Linear(in_features=245760, out_features=64, bias=True)\n",
       "      (1): Tanh()\n",
       "      (2): Linear(in_features=64, out_features=64, bias=True)\n",
       "      (3): Tanh()\n",
       "    )\n",
       "  )\n",
       "  (action_net): Linear(in_features=64, out_features=7, bias=True)\n",
       "  (value_net): Linear(in_features=64, out_features=1, bias=True)\n",
       ")"
      ]
     },
     "execution_count": 40,
     "metadata": {},
     "output_type": "execute_result"
    }
   ],
   "source": [
    "# Loading best model\n",
    "# model = PPO.load('MlpPolicy') if avg_mlp_reward > avg_cnn_reward else PPO.load(\"CnnPolicy\")\n",
    "model = PPO.load('MlpPolicy')\n",
    "model.policy"
   ]
  },
  {
   "cell_type": "code",
   "execution_count": 41,
   "metadata": {},
   "outputs": [
    {
     "name": "stderr",
     "output_type": "stream",
     "text": [
      "2024-04-17 13:26:03.296 Python[9832:882773] Warning: Window move completed without beginning\n"
     ]
    }
   ],
   "source": [
    "# Start the game \n",
    "state = env.reset()\n",
    "done = False\n",
    "# Loop through the game\n",
    "while not done: \n",
    "    # model prediction for action space\n",
    "    action, _ = model.predict(state)\n",
    "    state, reward, done, info = env.step(action)\n",
    "    # rendering the game\n",
    "    env.render(mode=\"human\")"
   ]
  },
  {
   "cell_type": "markdown",
   "metadata": {},
   "source": [
    "_________"
   ]
  }
 ],
 "metadata": {
  "kernelspec": {
   "display_name": "mariobros",
   "language": "python",
   "name": "python3"
  },
  "language_info": {
   "codemirror_mode": {
    "name": "ipython",
    "version": 3
   },
   "file_extension": ".py",
   "mimetype": "text/x-python",
   "name": "python",
   "nbconvert_exporter": "python",
   "pygments_lexer": "ipython3",
   "version": "3.9.6"
  }
 },
 "nbformat": 4,
 "nbformat_minor": 4
}
